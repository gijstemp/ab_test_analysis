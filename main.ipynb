{
 "cells": [
  {
   "cell_type": "code",
   "execution_count": null,
   "metadata": {},
   "outputs": [],
   "source": [
    "# run first time to install jupyte and ipykernel\n",
    "# %pip3 install ipykernel jupyter"
   ]
  },
  {
   "cell_type": "code",
   "execution_count": null,
   "metadata": {},
   "outputs": [],
   "source": [
    "# Only run first time to install dependencies\n",
    "# %pip install -r requirements.txt"
   ]
  },
  {
   "cell_type": "markdown",
   "metadata": {},
   "source": [
    "# Problem definition and data overview\n",
    "**Objective:** Evaluate the A/B test to determine which variant (A or B) yields a higher session-based conversion rate (i.e. sessions leading to a purchase).\n",
    "\n",
    "**Datasets Overview:**\n",
    "- **events.csv**: Contains session-level data (session_id, user_id, variant, timestamp, event_type) that captures user interactions.\n",
    "- **users.csv**: Contains user demographics (user_id, variant, country, device, age_group) that can help segment and explain behavior."
   ]
  },
  {
   "cell_type": "markdown",
   "metadata": {},
   "source": [
    "## Key Metrics\n",
    "- **Primary Metrics:**\n",
    "    - **Overall Session Conversion Rate**\n",
    "    \n",
    "        $\\text{Conversion Rate} = \\frac{\\text{Number of Sessions with a Purchase Event}}{\\text{Total Sessions}}$\n",
    "​    \n",
    "    - **Conversion Rate per Variant:**\n",
    "    Compute conversion rates separately for Variant A and Variant B.\n",
    "\n",
    "    - **Percentage Difference:**\n",
    "\n",
    "        $\\text{Percentage Change} = \\frac{\\text{Conversion Rate}_B − \\text{Conversion Rate}_A}{\\text{Conversion Rate}_A} \\times 100$\n",
    "\n",
    "- **Secondary Metrics:**\n",
    "    - **Interaction-Based Impact:** Assess if specific events (e.g., “add to cart”, “page view”) correlate with higher conversion rates.\n",
    "    - **Demographic Impact:** Analyze whether age, country, or device type significantly affect conversion rates."
   ]
  },
  {
   "cell_type": "markdown",
   "metadata": {},
   "source": [
    "## Data prep & cleaning"
   ]
  },
  {
   "cell_type": "code",
   "execution_count": 6,
   "metadata": {},
   "outputs": [
    {
     "name": "stdout",
     "output_type": "stream",
     "text": [
      "Events DataFrame (first 5 rows):\n",
      "   session_id  user_id    variant            timestamp          event_type\n",
      "0     1055627     3283  variant_b  2023-01-16 19:00:00           page_view\n",
      "1     1042101      606  variant_b  2023-01-20 17:00:00           page_view\n",
      "2     1042101      606  variant_b  2023-01-20 17:00:10  purchase_completed\n",
      "3     1042101      606  variant_b  2023-01-20 17:00:28    purchase_started\n",
      "4     1052179     1048  variant_a  2023-01-02 09:00:00           page_view \n",
      "\n",
      "Users DataFrame (first 5 rows):\n",
      "   user_id    variant  country   device age_group\n",
      "0        1  variant_b  Germany  desktop     25-34\n",
      "1        2  variant_a  Iceland  desktop     45-54\n",
      "2        3  variant_a   France  desktop     35-44\n",
      "3        4  variant_b  Iceland   tablet     35-44\n",
      "4        5  variant_a  Iceland   mobile     45-54 \n",
      "\n"
     ]
    }
   ],
   "source": [
    "# Import required libraries\n",
    "import pandas as pd\n",
    "\n",
    "# Load events_abler.csv and users_abler.csv\n",
    "df_events = pd.read_csv('data/events.csv')\n",
    "df_users = pd.read_csv('data/users.csv')\n",
    "\n",
    "# Display the first few rows for a quick inspection\n",
    "print(\"Events DataFrame (first 5 rows):\")\n",
    "print(df_events.head(), \"\\n\")\n",
    "print(\"Users DataFrame (first 5 rows):\")\n",
    "print(df_users.head(), \"\\n\")"
   ]
  },
  {
   "cell_type": "code",
   "execution_count": null,
   "metadata": {},
   "outputs": [],
   "source": [
    "# ----------------------------\n",
    "# 2. Data Cleaning\n",
    "# ----------------------------\n",
    "# Convert 'timestamp' in events to datetime\n",
    "df_events['timestamp'] = pd.to_datetime(df_events['timestamp'])\n",
    "print(\"Converted 'timestamp' to datetime.\\n\")\n",
    "\n",
    "# Check for missing values in each DataFrame\n",
    "print(\"Missing values in events:\")\n",
    "print(df_events.isnull().sum(), \"\\n\")\n",
    "print(\"Missing values in users:\")\n",
    "print(df_users.isnull().sum(), \"\\n\")\n",
    "\n",
    "# Handle missing values if any (example: drop rows with missing values)\n",
    "# Note: Depending on your project, you may prefer imputing missing values rather than dropping.\n",
    "df_events = df_events.dropna()\n",
    "df_users = df_users.dropna()\n",
    "print(\"Dropped rows with missing values (if any).\\n\")\n",
    "\n",
    "# Check for duplicate rows\n",
    "duplicates_events = df_events.duplicated().sum()\n",
    "duplicates_users = df_users.duplicated().sum()\n",
    "print(f\"Found {duplicates_events} duplicate rows in events.\")\n",
    "print(f\"Found {duplicates_users} duplicate rows in users.\\n\")\n",
    "\n",
    "# Drop duplicate rows\n",
    "df_events = df_events.drop_duplicates()\n",
    "df_users = df_users.drop_duplicates()\n",
    "print(\"Removed duplicate rows (if any).\\n\")\n",
    "\n",
    "# ----------------------------\n",
    "# 3. Merge Datasets\n",
    "# ----------------------------\n",
    "# Merge events with users on 'user_id'. Using 'left' join ensures all events are kept.\n",
    "merged_df = pd.merge(df_events, df_users, on='user_id', how='left')\n",
    "\n",
    "# Quick check of the merged DataFrame\n",
    "print(\"Merged DataFrame (first 5 rows):\")\n",
    "print(merged_df.head(), \"\\n\")\n",
    "\n",
    "# Optional: Verify if any rows in the merged DataFrame lack user info\n",
    "missing_user_info = merged_df.isnull().sum()\n",
    "print(\"Missing values in the merged DataFrame:\")\n",
    "print(missing_user_info)"
   ]
  }
 ],
 "metadata": {
  "kernelspec": {
   "display_name": "project_kernel",
   "language": "python",
   "name": "project_kernel"
  },
  "language_info": {
   "codemirror_mode": {
    "name": "ipython",
    "version": 3
   },
   "file_extension": ".py",
   "mimetype": "text/x-python",
   "name": "python",
   "nbconvert_exporter": "python",
   "pygments_lexer": "ipython3",
   "version": "3.13.1"
  }
 },
 "nbformat": 4,
 "nbformat_minor": 2
}
