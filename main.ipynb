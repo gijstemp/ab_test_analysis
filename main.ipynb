{
 "cells": [
  {
   "cell_type": "markdown",
   "metadata": {},
   "source": [
    "# Imports and Dependencies"
   ]
  },
  {
   "cell_type": "markdown",
   "metadata": {},
   "source": [
    "## Dependencies"
   ]
  },
  {
   "cell_type": "code",
   "execution_count": null,
   "metadata": {},
   "outputs": [],
   "source": [
    "# run first time to install jupyte and ipykernel\n",
    "# %pip3 install ipykernel jupyter"
   ]
  },
  {
   "cell_type": "code",
   "execution_count": null,
   "metadata": {},
   "outputs": [],
   "source": [
    "# Only run first time to install dependencies\n",
    "# %pip install -r requirements.txt"
   ]
  },
  {
   "cell_type": "markdown",
   "metadata": {},
   "source": [
    "## Imports"
   ]
  },
  {
   "cell_type": "code",
   "execution_count": 11,
   "metadata": {},
   "outputs": [],
   "source": [
    "import pandas as pd\n",
    "import matplotlib.pyplot as plt\n",
    "import seaborn as sns"
   ]
  },
  {
   "cell_type": "markdown",
   "metadata": {},
   "source": [
    "# Problem definition and data overview\n",
    "**Objective:** Evaluate the A/B test to determine which variant (A or B) yields a higher session-based conversion rate (i.e. sessions leading to a purchase).\n",
    "\n",
    "**Datasets Overview:**\n",
    "- **events.csv**: Contains session-level data (session_id, user_id, variant, timestamp, event_type) that captures user interactions.\n",
    "- **users.csv**: Contains user demographics (user_id, variant, country, device, age_group) that can help segment and explain behavior."
   ]
  },
  {
   "cell_type": "markdown",
   "metadata": {},
   "source": [
    "## Key Metrics\n",
    "- **Primary Metrics:**\n",
    "    - **Overall Session Conversion Rate**\n",
    "    \n",
    "        $\\text{Conversion Rate} = \\frac{\\text{Number of Sessions with a Purchase Event}}{\\text{Total Sessions}}$\n",
    "​    \n",
    "    - **Conversion Rate per Variant:**\n",
    "    Compute conversion rates separately for Variant A and Variant B.\n",
    "\n",
    "    - **Percentage Difference:**\n",
    "\n",
    "        $\\text{Percentage Change} = \\frac{\\text{Conversion Rate}_B − \\text{Conversion Rate}_A}{\\text{Conversion Rate}_A} \\times 100$\n",
    "\n",
    "- **Secondary Metrics:**\n",
    "    - **Interaction-Based Impact:** Assess if specific events (e.g., “add to cart”, “page view”) correlate with higher conversion rates.\n",
    "    - **Demographic Impact:** Analyze whether age, country, or device type significantly affect conversion rates."
   ]
  },
  {
   "cell_type": "markdown",
   "metadata": {},
   "source": [
    "# Analysis"
   ]
  },
  {
   "cell_type": "markdown",
   "metadata": {},
   "source": [
    "## Data prep & cleaning"
   ]
  },
  {
   "cell_type": "code",
   "execution_count": null,
   "metadata": {},
   "outputs": [
    {
     "name": "stdout",
     "output_type": "stream",
     "text": [
      "Events DataFrame (first 5 rows):\n",
      "   session_id  user_id    variant            timestamp          event_type\n",
      "0     1055627     3283  variant_b  2023-01-16 19:00:00           page_view\n",
      "1     1042101      606  variant_b  2023-01-20 17:00:00           page_view\n",
      "2     1042101      606  variant_b  2023-01-20 17:00:10  purchase_completed\n",
      "3     1042101      606  variant_b  2023-01-20 17:00:28    purchase_started\n",
      "4     1052179     1048  variant_a  2023-01-02 09:00:00           page_view \n",
      "\n",
      "Users DataFrame (first 5 rows):\n",
      "   user_id    variant  country   device age_group\n",
      "0        1  variant_b  Germany  desktop     25-34\n",
      "1        2  variant_a  Iceland  desktop     45-54\n",
      "2        3  variant_a   France  desktop     35-44\n",
      "3        4  variant_b  Iceland   tablet     35-44\n",
      "4        5  variant_a  Iceland   mobile     45-54 \n",
      "\n"
     ]
    }
   ],
   "source": [
    "# Load events_abler.csv and users_abler.csv\n",
    "df_events = pd.read_csv('data/events.csv')\n",
    "df_users = pd.read_csv('data/users.csv')\n",
    "\n",
    "# Display the first few rows for a quick inspection\n",
    "print(\"Events:\")\n",
    "print(df_events.head(), \"\\n\")\n",
    "print(\"Users:\")\n",
    "print(df_users.head(), \"\\n\")"
   ]
  },
  {
   "cell_type": "markdown",
   "metadata": {},
   "source": [
    "### Data Cleaning"
   ]
  },
  {
   "cell_type": "code",
   "execution_count": 7,
   "metadata": {},
   "outputs": [
    {
     "name": "stdout",
     "output_type": "stream",
     "text": [
      "Converted 'timestamp' to datetime.\n",
      "\n",
      "Missing values in events:\n",
      "session_id    0\n",
      "user_id       0\n",
      "variant       0\n",
      "timestamp     0\n",
      "event_type    0\n",
      "dtype: int64 \n",
      "\n",
      "Missing values in users:\n",
      "user_id      0\n",
      "variant      0\n",
      "country      0\n",
      "device       0\n",
      "age_group    0\n",
      "dtype: int64 \n",
      "\n"
     ]
    }
   ],
   "source": [
    "# Convert 'timestamp' in events to datetime\n",
    "df_events['timestamp'] = pd.to_datetime(df_events['timestamp'])\n",
    "print(\"Converted 'timestamp' to datetime.\\n\")\n",
    "\n",
    "# Check for missing values in each DataFrame\n",
    "print(\"Missing values in events:\")\n",
    "print(df_events.isnull().sum(), \"\\n\")\n",
    "print(\"Missing values in users:\")\n",
    "print(df_users.isnull().sum(), \"\\n\")"
   ]
  },
  {
   "cell_type": "code",
   "execution_count": 8,
   "metadata": {},
   "outputs": [
    {
     "name": "stdout",
     "output_type": "stream",
     "text": [
      "Found 0 duplicate rows in events.\n",
      "Found 0 duplicate rows in users.\n",
      "\n"
     ]
    }
   ],
   "source": [
    "# Check for duplicate rows\n",
    "duplicates_events = df_events.duplicated().sum()\n",
    "duplicates_users = df_users.duplicated().sum()\n",
    "print(f\"Found {duplicates_events} duplicate rows in events.\")\n",
    "print(f\"Found {duplicates_users} duplicate rows in users.\\n\")"
   ]
  },
  {
   "cell_type": "markdown",
   "metadata": {},
   "source": [
    "### Merge datasets"
   ]
  },
  {
   "cell_type": "code",
   "execution_count": 9,
   "metadata": {},
   "outputs": [
    {
     "name": "stdout",
     "output_type": "stream",
     "text": [
      "Merged DataFrame (first 5 rows):\n",
      "   session_id  user_id  variant_x           timestamp          event_type  \\\n",
      "0     1055627     3283  variant_b 2023-01-16 19:00:00           page_view   \n",
      "1     1042101      606  variant_b 2023-01-20 17:00:00           page_view   \n",
      "2     1042101      606  variant_b 2023-01-20 17:00:10  purchase_completed   \n",
      "3     1042101      606  variant_b 2023-01-20 17:00:28    purchase_started   \n",
      "4     1052179     1048  variant_a 2023-01-02 09:00:00           page_view   \n",
      "\n",
      "   variant_y  country   device age_group  \n",
      "0  variant_b  Iceland  desktop     25-34  \n",
      "1  variant_b  Iceland   mobile     18-24  \n",
      "2  variant_b  Iceland   mobile     18-24  \n",
      "3  variant_b  Iceland   mobile     18-24  \n",
      "4  variant_a  Iceland  desktop     35-44   \n",
      "\n"
     ]
    }
   ],
   "source": [
    "# Merge events with users on 'user_id' using 'left' join.\n",
    "merged_df = pd.merge(df_events, df_users, on='user_id', how='left')\n",
    "\n",
    "# Quick check of the merged DataFrame\n",
    "print(\"Merged DataFrame (first 5 rows):\")\n",
    "print(merged_df.head(), \"\\n\")"
   ]
  },
  {
   "cell_type": "code",
   "execution_count": 10,
   "metadata": {},
   "outputs": [
    {
     "name": "stdout",
     "output_type": "stream",
     "text": [
      "No differences found between 'variant_x' and 'variant_y'.\n"
     ]
    }
   ],
   "source": [
    "# Check for differences between 'variant_x' (from events) and 'variant_y' (from users)\n",
    "differences = merged_df[merged_df['variant_x'] != merged_df['variant_y']]\n",
    "\n",
    "if differences.empty:\n",
    "    print(\"No differences found between 'variant_x' and 'variant_y'.\")\n",
    "    # Drop the redundant column and rename 'variant_x' to 'variant'\n",
    "    merged_df = merged_df.drop('variant_y', axis=1)\n",
    "    merged_df = merged_df.rename(columns={'variant_x': 'variant'})\n",
    "else:\n",
    "    print(\"Differences found between 'variant_x' and 'variant_y':\")\n",
    "    print(differences[['user_id', 'variant_x', 'variant_y']])"
   ]
  },
  {
   "cell_type": "markdown",
   "metadata": {},
   "source": [
    "## Exploratory Data Analysis"
   ]
  },
  {
   "cell_type": "code",
   "execution_count": null,
   "metadata": {},
   "outputs": [],
   "source": []
  }
 ],
 "metadata": {
  "kernelspec": {
   "display_name": "project_kernel",
   "language": "python",
   "name": "project_kernel"
  },
  "language_info": {
   "codemirror_mode": {
    "name": "ipython",
    "version": 3
   },
   "file_extension": ".py",
   "mimetype": "text/x-python",
   "name": "python",
   "nbconvert_exporter": "python",
   "pygments_lexer": "ipython3",
   "version": "3.13.1"
  }
 },
 "nbformat": 4,
 "nbformat_minor": 2
}
